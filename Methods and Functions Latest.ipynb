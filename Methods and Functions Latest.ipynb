{
 "cells": [
  {
   "cell_type": "code",
   "execution_count": 3,
   "id": "e6233db9",
   "metadata": {},
   "outputs": [],
   "source": [
    "mylist = [1,2,3]"
   ]
  },
  {
   "cell_type": "code",
   "execution_count": 4,
   "id": "6b1bb01f",
   "metadata": {},
   "outputs": [],
   "source": [
    "mylist.append(4)"
   ]
  },
  {
   "cell_type": "code",
   "execution_count": 5,
   "id": "85db66aa",
   "metadata": {},
   "outputs": [
    {
     "data": {
      "text/plain": [
       "[1, 2, 3, 4]"
      ]
     },
     "execution_count": 5,
     "metadata": {},
     "output_type": "execute_result"
    }
   ],
   "source": [
    "mylist"
   ]
  },
  {
   "cell_type": "code",
   "execution_count": null,
   "id": "2d3d7395",
   "metadata": {},
   "outputs": [],
   "source": [
    "mylist.pop() #no argument given # Does not matter "
   ]
  },
  {
   "cell_type": "code",
   "execution_count": null,
   "id": "84227a85",
   "metadata": {},
   "outputs": [],
   "source": [
    "mylist"
   ]
  },
  {
   "cell_type": "code",
   "execution_count": 7,
   "id": "e5b3979a",
   "metadata": {},
   "outputs": [],
   "source": [
    "from platform import python_version\n"
   ]
  },
  {
   "cell_type": "code",
   "execution_count": 10,
   "id": "5190ed76",
   "metadata": {},
   "outputs": [
    {
     "data": {
      "text/plain": [
       "'3.6.9'"
      ]
     },
     "execution_count": 10,
     "metadata": {},
     "output_type": "execute_result"
    }
   ],
   "source": [
    "python_version()"
   ]
  },
  {
   "cell_type": "code",
   "execution_count": 14,
   "id": "a8a7d2d8",
   "metadata": {},
   "outputs": [
    {
     "name": "stdout",
     "output_type": "stream",
     "text": [
      "Hello\n"
     ]
    }
   ],
   "source": [
    "def name_function():\n",
    "    '''\n",
    "    here where the code appears\n",
    "    use three single quote to get this\n",
    "    '''\n",
    "    print('Hello')\n",
    "name_function()"
   ]
  },
  {
   "cell_type": "code",
   "execution_count": 17,
   "id": "f2b4c403",
   "metadata": {},
   "outputs": [],
   "source": [
    "def say_hello(name='Name'):#default operates when no parameters passed\n",
    "    print('Hello',name)"
   ]
  },
  {
   "cell_type": "code",
   "execution_count": 18,
   "id": "658ab667",
   "metadata": {},
   "outputs": [
    {
     "name": "stdout",
     "output_type": "stream",
     "text": [
      "Hello Name\n"
     ]
    }
   ],
   "source": [
    "say_hello()"
   ]
  },
  {
   "cell_type": "code",
   "execution_count": 19,
   "id": "88f42da8",
   "metadata": {},
   "outputs": [
    {
     "name": "stdout",
     "output_type": "stream",
     "text": [
      "Hello Bibek\n"
     ]
    }
   ],
   "source": [
    "say_hello('Bibek')"
   ]
  },
  {
   "cell_type": "code",
   "execution_count": 20,
   "id": "88cbbefd",
   "metadata": {},
   "outputs": [
    {
     "name": "stdout",
     "output_type": "stream",
     "text": [
      "Hello Mukesh\n"
     ]
    }
   ],
   "source": [
    "result = say_hello('Mukesh')"
   ]
  },
  {
   "cell_type": "code",
   "execution_count": 21,
   "id": "0140cce7",
   "metadata": {},
   "outputs": [
    {
     "data": {
      "text/plain": [
       "NoneType"
      ]
     },
     "execution_count": 21,
     "metadata": {},
     "output_type": "execute_result"
    }
   ],
   "source": [
    "type(result)"
   ]
  },
  {
   "cell_type": "code",
   "execution_count": 27,
   "id": "76fbb057",
   "metadata": {},
   "outputs": [],
   "source": [
    "def say_hello(name = 'Name'):\n",
    "    return 'hello '+ name #if used ',' returns tuple"
   ]
  },
  {
   "cell_type": "code",
   "execution_count": 28,
   "id": "9b6eaffb",
   "metadata": {},
   "outputs": [
    {
     "data": {
      "text/plain": [
       "'hello Name'"
      ]
     },
     "execution_count": 28,
     "metadata": {},
     "output_type": "execute_result"
    }
   ],
   "source": [
    "say_hello()"
   ]
  },
  {
   "cell_type": "code",
   "execution_count": 29,
   "id": "c9ae291c",
   "metadata": {},
   "outputs": [
    {
     "data": {
      "text/plain": [
       "'hello Name'"
      ]
     },
     "execution_count": 29,
     "metadata": {},
     "output_type": "execute_result"
    }
   ],
   "source": [
    "result = say_hello()\n",
    "result"
   ]
  },
  {
   "cell_type": "code",
   "execution_count": 33,
   "id": "50e057a8",
   "metadata": {},
   "outputs": [],
   "source": [
    "def add(n1 = 0,n2 = 0):\n",
    "    return n1+n2"
   ]
  },
  {
   "cell_type": "code",
   "execution_count": 34,
   "id": "47baa08e",
   "metadata": {},
   "outputs": [
    {
     "data": {
      "text/plain": [
       "5"
      ]
     },
     "execution_count": 34,
     "metadata": {},
     "output_type": "execute_result"
    }
   ],
   "source": [
    "add(2,3)"
   ]
  },
  {
   "cell_type": "code",
   "execution_count": 35,
   "id": "3834cc22",
   "metadata": {},
   "outputs": [
    {
     "data": {
      "text/plain": [
       "0"
      ]
     },
     "execution_count": 35,
     "metadata": {},
     "output_type": "execute_result"
    }
   ],
   "source": [
    "add()"
   ]
  },
  {
   "cell_type": "code",
   "execution_count": 36,
   "id": "92855d60",
   "metadata": {},
   "outputs": [],
   "source": [
    "# Find out if a word dog is in string\n",
    "def dog_check(mystring):\n",
    "    if 'dog' in mystring.lower():\n",
    "        return True\n",
    "    else:\n",
    "        return False"
   ]
  },
  {
   "cell_type": "code",
   "execution_count": 42,
   "id": "60f49201",
   "metadata": {},
   "outputs": [
    {
     "data": {
      "text/plain": [
       "True"
      ]
     },
     "execution_count": 42,
     "metadata": {},
     "output_type": "execute_result"
    }
   ],
   "source": [
    "dog_check('appleDog')"
   ]
  },
  {
   "cell_type": "code",
   "execution_count": 48,
   "id": "f2eb28d3",
   "metadata": {},
   "outputs": [],
   "source": [
    "#CLeaner Version\n",
    "def dog_check(mystring):\n",
    "    return 'dog'in mystring.lower()"
   ]
  },
  {
   "cell_type": "code",
   "execution_count": 51,
   "id": "0a9b3b15",
   "metadata": {},
   "outputs": [
    {
     "data": {
      "text/plain": [
       "True"
      ]
     },
     "execution_count": 51,
     "metadata": {},
     "output_type": "execute_result"
    }
   ],
   "source": [
    "dog_check('HappyDoG')"
   ]
  },
  {
   "cell_type": "code",
   "execution_count": 55,
   "id": "a6f5b0aa",
   "metadata": {},
   "outputs": [
    {
     "data": {
      "text/plain": [
       "False"
      ]
     },
     "execution_count": 55,
     "metadata": {},
     "output_type": "execute_result"
    }
   ],
   "source": [
    "dog_check('NotHappyDosg')"
   ]
  },
  {
   "cell_type": "markdown",
   "id": "e370e917",
   "metadata": {},
   "source": [
    "### Pig Latin\n",
    "    .If a word starts with a vowel, add 'ay' to end\n",
    "    . If not, put first letter at end and add 'ay' at last\n",
    "    --> apple---> applyay\n",
    "    --> dog ---> ogday"
   ]
  },
  {
   "cell_type": "code",
   "execution_count": 57,
   "id": "7175d63c",
   "metadata": {},
   "outputs": [],
   "source": [
    "def pig_latin(word):\n",
    "    if word.lower()[0] in ['a','e','i','o','u']: #'aeiou'\n",
    "        return word + 'ay'\n",
    "    else: \n",
    "        return word[1:] + word[0] + 'ay'"
   ]
  },
  {
   "cell_type": "code",
   "execution_count": 60,
   "id": "6128652e",
   "metadata": {},
   "outputs": [
    {
     "data": {
      "text/plain": [
       "'Appleay'"
      ]
     },
     "execution_count": 60,
     "metadata": {},
     "output_type": "execute_result"
    }
   ],
   "source": [
    "pig_latin('Apple')"
   ]
  },
  {
   "cell_type": "code",
   "execution_count": 59,
   "id": "f4317aa6",
   "metadata": {},
   "outputs": [
    {
     "data": {
      "text/plain": [
       "'ogday'"
      ]
     },
     "execution_count": 59,
     "metadata": {},
     "output_type": "execute_result"
    }
   ],
   "source": [
    "pig_latin('dog')"
   ]
  },
  {
   "cell_type": "code",
   "execution_count": 61,
   "id": "f50a1fb8",
   "metadata": {},
   "outputs": [
    {
     "data": {
      "text/plain": [
       "'ordway'"
      ]
     },
     "execution_count": 61,
     "metadata": {},
     "output_type": "execute_result"
    }
   ],
   "source": [
    "pig_latin('word')"
   ]
  },
  {
   "cell_type": "markdown",
   "id": "18c17601",
   "metadata": {},
   "source": [
    "### kwargs and args "
   ]
  },
  {
   "cell_type": "code",
   "execution_count": 70,
   "id": "de1737d7",
   "metadata": {},
   "outputs": [],
   "source": [
    "def myfun(a,b,c=0,d=0,e=0):\n",
    "    #Returns 5% sum of numbers passed\n",
    "    return sum((a,b,c,d,e)) * 0.05"
   ]
  },
  {
   "cell_type": "code",
   "execution_count": 71,
   "id": "208c7277",
   "metadata": {},
   "outputs": [
    {
     "data": {
      "text/plain": [
       "5.0"
      ]
     },
     "execution_count": 71,
     "metadata": {},
     "output_type": "execute_result"
    }
   ],
   "source": [
    "myfun(40,60)"
   ]
  },
  {
   "cell_type": "code",
   "execution_count": 78,
   "id": "129a4f0f",
   "metadata": {},
   "outputs": [
    {
     "data": {
      "text/plain": [
       "19"
      ]
     },
     "execution_count": 78,
     "metadata": {},
     "output_type": "execute_result"
    }
   ],
   "source": [
    "#Doesnot work sum(9,10)\n",
    "sum((9,10)) ###Note this syntax passed in tuple"
   ]
  },
  {
   "cell_type": "code",
   "execution_count": 83,
   "id": "8b2ee626",
   "metadata": {},
   "outputs": [],
   "source": [
    "def myfunc(*args): #args is just a convention eg *hehe\n",
    "    ###Returns Tuple\n",
    "    print(args) #to show args returning tuples\n",
    "    return sum(args)*0.05"
   ]
  },
  {
   "cell_type": "code",
   "execution_count": 82,
   "id": "39608722",
   "metadata": {},
   "outputs": [
    {
     "name": "stdout",
     "output_type": "stream",
     "text": [
      "(1, 2, 3, 4, 5, 6, 7, 8, 9)\n"
     ]
    },
    {
     "data": {
      "text/plain": [
       "2.25"
      ]
     },
     "execution_count": 82,
     "metadata": {},
     "output_type": "execute_result"
    }
   ],
   "source": [
    "myfunc(1,2,3,4,5,6,7,8,9)"
   ]
  },
  {
   "cell_type": "code",
   "execution_count": 92,
   "id": "c3ca395b",
   "metadata": {},
   "outputs": [],
   "source": [
    "def my_food(**kwargs): #kwargs is arbitary\n",
    "    print(kwargs) #Returns Dictionary\n",
    "    if 'fruit'in kwargs:\n",
    "        print('My best fruit is ', kwargs['fruit'])\n",
    "    else:\n",
    "        pass\n",
    "    \n",
    "        "
   ]
  },
  {
   "cell_type": "code",
   "execution_count": 93,
   "id": "66cdcbab",
   "metadata": {},
   "outputs": [
    {
     "name": "stdout",
     "output_type": "stream",
     "text": [
      "{'fruit': 'mango', 'veg': 'Rajma'}\n",
      "My best fruit is  mango\n"
     ]
    }
   ],
   "source": [
    "my_food(fruit = 'mango',veg = 'Rajma') #keyword can't be expression"
   ]
  },
  {
   "cell_type": "code",
   "execution_count": 95,
   "id": "1e350525",
   "metadata": {},
   "outputs": [],
   "source": [
    "def myfunc(*args, **kwargs):\n",
    "    print('I like ',args[0] , kwargs['food'])\n",
    "    "
   ]
  },
  {
   "cell_type": "code",
   "execution_count": 97,
   "id": "b9a83da4",
   "metadata": {},
   "outputs": [
    {
     "name": "stdout",
     "output_type": "stream",
     "text": [
      "I like  10 rice\n"
     ]
    }
   ],
   "source": [
    "myfunc(10,20,30,food = 'rice', animal = 'fish')"
   ]
  },
  {
   "cell_type": "code",
   "execution_count": null,
   "id": "1c880a51",
   "metadata": {},
   "outputs": [],
   "source": [
    "for number in range(0,11):\n",
    "    if number % 2 == 0:\n",
    "        print('The number is even ',number)\n",
    "    else:\n",
    "        print('The number is odd ', number)"
   ]
  },
  {
   "cell_type": "code",
   "execution_count": 34,
   "id": "caf549b9",
   "metadata": {},
   "outputs": [
    {
     "name": "stdout",
     "output_type": "stream",
     "text": [
      "Enter the length of cube5\n",
      "Enter the breadth of cube5\n",
      "Enter the height of cube1\n",
      "The volume of cuboid is,  25\n"
     ]
    }
   ],
   "source": [
    "#calculate volume of cuboid using function\n",
    "lent = int(input('Enter the length of cube'))\n",
    "brth = int(input('Enter the breadth of cube'))\n",
    "hgt = int(input('Enter the height of cube'))\n",
    "def volume_cubiod(num1, num2, num3):\n",
    "    return num1 * num2 * num3\n",
    "print( 'The volume of cuboid is, ', volume_cubiod(lent, brth, hgt))"
   ]
  },
  {
   "cell_type": "code",
   "execution_count": 8,
   "id": "62722c74",
   "metadata": {},
   "outputs": [
    {
     "name": "stdout",
     "output_type": "stream",
     "text": [
      "Enter the number55\n"
     ]
    },
    {
     "data": {
      "text/plain": [
       "False"
      ]
     },
     "execution_count": 8,
     "metadata": {},
     "output_type": "execute_result"
    }
   ],
   "source": [
    "#Function to check if a number is in given range or not\n",
    "number = int(input('Enter the number'))\n",
    "def num_check(num):\n",
    "    return num in range(0,15)\n",
    "        \n",
    "num_check(number)\n",
    "    "
   ]
  },
  {
   "cell_type": "code",
   "execution_count": 11,
   "id": "e6463a3e",
   "metadata": {},
   "outputs": [
    {
     "data": {
      "text/plain": [
       "[1, 1, 1, 2, 2, 3, 44, 5, 5, 5, 5, 6]"
      ]
     },
     "execution_count": 11,
     "metadata": {},
     "output_type": "execute_result"
    }
   ],
   "source": [
    "mylist = [1,1,1,2,2,3,44,5,5,5,5,6]\n",
    "mylist\n"
   ]
  },
  {
   "cell_type": "code",
   "execution_count": 15,
   "id": "bde31cd9",
   "metadata": {},
   "outputs": [
    {
     "data": {
      "text/plain": [
       "[1, 2, 3, 5, 6, 44]"
      ]
     },
     "execution_count": 15,
     "metadata": {},
     "output_type": "execute_result"
    }
   ],
   "source": [
    "unique_list  = set(mylist)\n",
    "unique_list\n",
    "new_unique_list = list(unique_list)\n",
    "new_unique_list"
   ]
  },
  {
   "cell_type": "code",
   "execution_count": 18,
   "id": "d698a986",
   "metadata": {},
   "outputs": [
    {
     "name": "stdout",
     "output_type": "stream",
     "text": [
      "Enter nunbers1\n",
      "Enter nunbers2\n",
      "Enter nunbers8\n",
      "Enter nunbers9\n",
      "Enter nunbers6\n"
     ]
    },
    {
     "data": {
      "text/plain": [
       "[1, 2, 8, 9, 6]"
      ]
     },
     "execution_count": 18,
     "metadata": {},
     "output_type": "execute_result"
    }
   ],
   "source": [
    "new_list = []\n",
    "for count in range(0,5):\n",
    "    element = int(input('Enter nunbers'))\n",
    "    new_list.append(element)\n",
    "new_list\n"
   ]
  },
  {
   "cell_type": "code",
   "execution_count": 23,
   "id": "367e1ab6",
   "metadata": {},
   "outputs": [
    {
     "name": "stdout",
     "output_type": "stream",
     "text": [
      "<class 'int'>\n",
      "<class 'int'>\n",
      "<class 'int'>\n",
      "<class 'int'>\n",
      "<class 'int'>\n"
     ]
    }
   ],
   "source": []
  },
  {
   "cell_type": "code",
   "execution_count": null,
   "id": "25f83bab",
   "metadata": {},
   "outputs": [],
   "source": []
  }
 ],
 "metadata": {
  "kernelspec": {
   "display_name": "Python 3",
   "language": "python",
   "name": "python3"
  },
  "language_info": {
   "codemirror_mode": {
    "name": "ipython",
    "version": 3
   },
   "file_extension": ".py",
   "mimetype": "text/x-python",
   "name": "python",
   "nbconvert_exporter": "python",
   "pygments_lexer": "ipython3",
   "version": "3.6.9"
  }
 },
 "nbformat": 4,
 "nbformat_minor": 5
}
